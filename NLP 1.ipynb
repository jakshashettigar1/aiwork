{
 "cells": [
  {
   "cell_type": "code",
   "execution_count": 37,
   "id": "323be3d7",
   "metadata": {},
   "outputs": [
    {
     "name": "stdout",
     "output_type": "stream",
     "text": [
      "Natural language processing 1refers to the branch of computer @science and more specifically, the branch of 3\" artificial intelligence\" or AI, concerned with giving computers the ability to understand text and spoken words in much the same way human beings can. NLP combines computational linguistics with statistical, [machine learning, and deep learning models. Together, these technologies enable computers to process human language in the form of text or voice data and to understand its full meaning, complete with the speaker or writer's intent and sentiment.\n"
     ]
    }
   ],
   "source": [
    "import nltk\n",
    "from nltk.tokenize import sent_tokenize\n",
    "file=open(\"nlp.txt\",\"r\")\n",
    "text=file.read()\n",
    "print(text)"
   ]
  },
  {
   "cell_type": "code",
   "execution_count": 38,
   "id": "e5e7be4d",
   "metadata": {},
   "outputs": [
    {
     "name": "stderr",
     "output_type": "stream",
     "text": [
      "[nltk_data] Downloading package punkt to C:\\Users\\GPT\n",
      "[nltk_data]     BANTWAL\\AppData\\Roaming\\nltk_data...\n",
      "[nltk_data]   Package punkt is already up-to-date!\n"
     ]
    },
    {
     "data": {
      "text/plain": [
       "True"
      ]
     },
     "execution_count": 38,
     "metadata": {},
     "output_type": "execute_result"
    }
   ],
   "source": [
    "nltk.download('punkt')"
   ]
  },
  {
   "cell_type": "code",
   "execution_count": 39,
   "id": "6b5ec3c7",
   "metadata": {},
   "outputs": [],
   "source": [
    "sentences=sent_tokenize(text)"
   ]
  },
  {
   "cell_type": "code",
   "execution_count": 40,
   "id": "060a8f81",
   "metadata": {},
   "outputs": [
    {
     "name": "stdout",
     "output_type": "stream",
     "text": [
      "number opf sentences: 3\n",
      "\n",
      " sentences 1 :\n",
      " Natural language processing 1refers to the branch of computer @science and more specifically, the branch of 3\" artificial intelligence\" or AI, concerned with giving computers the ability to understand text and spoken words in much the same way human beings can.\n",
      "\n",
      " sentences 2 :\n",
      " NLP combines computational linguistics with statistical, [machine learning, and deep learning models.\n",
      "\n",
      " sentences 3 :\n",
      " Together, these technologies enable computers to process human language in the form of text or voice data and to understand its full meaning, complete with the speaker or writer's intent and sentiment.\n"
     ]
    }
   ],
   "source": [
    "print(\"number opf sentences:\",len(sentences))\n",
    "for i in range(len(sentences)):\n",
    "    print(\"\\n sentences\",i+1,\":\\n\",sentences[i])"
   ]
  },
  {
   "cell_type": "code",
   "execution_count": 41,
   "id": "eec7f7f1",
   "metadata": {},
   "outputs": [
    {
     "name": "stdout",
     "output_type": "stream",
     "text": [
      "total number of words: 99\n",
      "['Natural', 'language', 'processing', '1refers', 'to', 'the', 'branch', 'of', 'computer', '@', 'science', 'and', 'more', 'specifically', ',', 'the', 'branch', 'of', '3', \"''\", 'artificial', 'intelligence', \"''\", 'or', 'AI', ',', 'concerned', 'with', 'giving', 'computers', 'the', 'ability', 'to', 'understand', 'text', 'and', 'spoken', 'words', 'in', 'much', 'the', 'same', 'way', 'human', 'beings', 'can', '.', 'NLP', 'combines', 'computational', 'linguistics', 'with', 'statistical', ',', '[', 'machine', 'learning', ',', 'and', 'deep', 'learning', 'models', '.', 'Together', ',', 'these', 'technologies', 'enable', 'computers', 'to', 'process', 'human', 'language', 'in', 'the', 'form', 'of', 'text', 'or', 'voice', 'data', 'and', 'to', 'understand', 'its', 'full', 'meaning', ',', 'complete', 'with', 'the', 'speaker', 'or', 'writer', \"'s\", 'intent', 'and', 'sentiment', '.']\n"
     ]
    }
   ],
   "source": [
    "from nltk.tokenize import word_tokenize\n",
    "words=word_tokenize(text)\n",
    "print(\"total number of words:\",len(words))\n",
    "print(words)"
   ]
  },
  {
   "cell_type": "code",
   "execution_count": 42,
   "id": "fe15675c",
   "metadata": {},
   "outputs": [
    {
     "data": {
      "text/plain": [
       "0"
      ]
     },
     "execution_count": 42,
     "metadata": {},
     "output_type": "execute_result"
    }
   ],
   "source": [
    "from nltk.probability import FreqDist\n",
    "all_fdist=FreqDist(words)\n",
    "all_fdist['service']"
   ]
  },
  {
   "cell_type": "code",
   "execution_count": 43,
   "id": "6788aeec",
   "metadata": {},
   "outputs": [
    {
     "name": "stdout",
     "output_type": "stream",
     "text": [
      "natural language processing 1refers to the branch of computer @science and more specifically, the branch of 3\" artificial intelligence\" or ai, concerned with giving computers the ability to understand text and spoken words in much the same way human beings can. nlp combines computational linguistics with statistical, [machine learning, and deep learning models. together, these technologies enable computers to process human language in the form of text or voice data and to understand its full meaning, complete with the speaker or writer's intent and sentiment.\n"
     ]
    }
   ],
   "source": [
    "text=text.lower()\n",
    "print(text)"
   ]
  },
  {
   "cell_type": "code",
   "execution_count": 44,
   "id": "e307cb43",
   "metadata": {},
   "outputs": [
    {
     "name": "stdout",
     "output_type": "stream",
     "text": [
      "natural language processing 1refers to the branch of computer science and more specifically the branch of 3 artificial intelligence or ai concerned with giving computers the ability to understand text and spoken words in much the same way human beings can nlp combines computational linguistics with statistical machine learning and deep learning models together these technologies enable computers to process human language in the form of text or voice data and to understand its full meaning complete with the speaker or writer s intent and sentiment \n"
     ]
    }
   ],
   "source": [
    "import re\n",
    "text=re.sub('[^A-Za-z0-9]+',' ',text)\n",
    "print(text)"
   ]
  },
  {
   "cell_type": "code",
   "execution_count": 45,
   "id": "4a33c1ad",
   "metadata": {},
   "outputs": [
    {
     "name": "stdout",
     "output_type": "stream",
     "text": [
      "natural language processing to the branch of computer science and more specifically the branch of artificial intelligence or ai concerned with giving computers the ability to understand text and spoken words in much the same way human beings can nlp combines computational linguistics with statistical machine learning and deep learning models together these technologies enable computers to process human language in the form of text or voice data and to understand its full meaning complete with the speaker or writer s intent and sentiment\n"
     ]
    }
   ],
   "source": [
    "text=re.sub(\"\\S*\\d\\S* \",\"\",text).strip()\n",
    "print(text)"
   ]
  },
  {
   "cell_type": "code",
   "execution_count": 46,
   "id": "94889e58",
   "metadata": {},
   "outputs": [
    {
     "name": "stderr",
     "output_type": "stream",
     "text": [
      "[nltk_data] Downloading package stopwords to C:\\Users\\GPT\n",
      "[nltk_data]     BANTWAL\\AppData\\Roaming\\nltk_data...\n",
      "[nltk_data]   Package stopwords is already up-to-date!\n"
     ]
    },
    {
     "data": {
      "text/plain": [
       "True"
      ]
     },
     "execution_count": 46,
     "metadata": {},
     "output_type": "execute_result"
    }
   ],
   "source": [
    "nltk.download('stopwords')"
   ]
  },
  {
   "cell_type": "code",
   "execution_count": 57,
   "id": "7acccb74",
   "metadata": {},
   "outputs": [
    {
     "name": "stdout",
     "output_type": "stream",
     "text": [
      "['natural', 'language', 'processing', 'to', 'the', 'branch', 'of', 'computer', 'science', 'and', 'more', 'specifically', 'the', 'branch', 'of', 'artificial', 'intelligence', 'or', 'ai', 'concerned', 'with', 'giving', 'computers', 'the', 'ability', 'to', 'understand', 'text', 'and', 'spoken', 'words', 'in', 'much', 'the', 'same', 'way', 'human', 'beings', 'can', 'nlp', 'combines', 'computational', 'linguistics', 'with', 'statistical', 'machine', 'learning', 'and', 'deep', 'learning', 'models', 'together', 'these', 'technologies', 'enable', 'computers', 'to', 'process', 'human', 'language', 'in', 'the', 'form', 'of', 'text', 'or', 'voice', 'data', 'and', 'to', 'understand', 'its', 'full', 'meaning', 'complete', 'with', 'the', 'speaker', 'or', 'writer', 's', 'intent', 'and', 'sentiment']\n"
     ]
    }
   ],
   "source": [
    "import nltk\n",
    "words=word_tokenize(text)\n",
    "stopwords=nltk.corpus.stopwords.words('english')\n",
    "words_sw_removed=[]\n",
    "for words in words:\n",
    "    if words in stopwords:\n",
    "        pass\n",
    "    else:\n",
    "        words_sw_removed.append(words)\n",
    "print(word_tokenize(text))"
   ]
  },
  {
   "cell_type": "code",
   "execution_count": 55,
   "id": "aeb439cb",
   "metadata": {},
   "outputs": [
    {
     "name": "stderr",
     "output_type": "stream",
     "text": [
      "[nltk_data] Downloading package words to C:\\Users\\GPT\n",
      "[nltk_data]     BANTWAL\\AppData\\Roaming\\nltk_data...\n",
      "[nltk_data]   Package words is already up-to-date!\n"
     ]
    }
   ],
   "source": [
    "import nltk\n",
    "from nltk.metrics.distance import edit_distance\n",
    "nltk.download('words')\n",
    "from nltk.corpus import words\n",
    "correct_words=words.words()"
   ]
  },
  {
   "cell_type": "code",
   "execution_count": 59,
   "id": "6d6c1b90",
   "metadata": {},
   "outputs": [
    {
     "name": "stdout",
     "output_type": "stream",
     "text": [
      "happy\n",
      "amazing\n",
      "intelligent\n"
     ]
    }
   ],
   "source": [
    "incorrect_words=[\"happpy\",\"amazaing\",\"intelliengt\"]\n",
    "for word in incorrect_words:\n",
    "    temp=[(edit_distance(word,w),w)for w in correct_words if w[0]==word[0]]\n",
    "    print(sorted(temp,key=lambda val:val[0])[0][1])"
   ]
  },
  {
   "cell_type": "markdown",
   "id": "ca2f7e4c",
   "metadata": {},
   "source": [
    "# NORMALIZATION"
   ]
  },
  {
   "cell_type": "code",
   "execution_count": 65,
   "id": "1abd07cf",
   "metadata": {},
   "outputs": [
    {
     "name": "stdout",
     "output_type": "stream",
     "text": [
      "natural language processing 1refers to the branch of computer @science and more specifically, the branch of 3\" artificial intelligence\" or ai, concerned with giving computers the ability to understand text and spoken words in much the same way human beings can. nlp combines computational linguistics with statistical, [machine learning, and deep learning models. together, these technologies enable computers to process human language in the form of text or voice data and to understand its full meaning, complete with the speaker or writer's intent and sentiment.\n"
     ]
    }
   ],
   "source": [
    "from nltk.tokenize import word_tokenize\n",
    "file=open(\"nlp.txt\",\"r\")\n",
    "text=file.read()\n",
    "text=text.lower()\n",
    "print(text)"
   ]
  },
  {
   "cell_type": "code",
   "execution_count": 64,
   "id": "75d428ee",
   "metadata": {},
   "outputs": [
    {
     "name": "stdout",
     "output_type": "stream",
     "text": [
      "natural language processing to the branch of computer science and more specifically the branch of artificial intelligence or ai concerned with giving computers the ability to understand text and spoken words in much the same way human beings can nlp combines computational linguistics with statistical machine learning and deep learning models together these technologies enable computers to process human language in the form of text or voice data and to understand its full meaning complete with the speaker or writer s intent and sentiment\n"
     ]
    }
   ],
   "source": [
    "import re\n",
    "text=re.sub('[^A-Za-z0-9]+',' ',text)\n",
    "text=re.sub(\"\\S*\\d\\S* \",\"\",text).strip()\n",
    "print(text)"
   ]
  },
  {
   "cell_type": "code",
   "execution_count": 68,
   "id": "8439fc43",
   "metadata": {},
   "outputs": [
    {
     "name": "stdout",
     "output_type": "stream",
     "text": [
      "['natural', 'language', 'processing', '1refers', 'to', 'the', 'branch', 'of', 'computer', '@', 'science', 'and', 'more', 'specifically', ',', 'the', 'branch', 'of', '3', \"''\", 'artificial', 'intelligence', \"''\", 'or', 'ai', ',', 'concerned', 'with', 'giving', 'computers', 'the', 'ability', 'to', 'understand', 'text', 'and', 'spoken', 'words', 'in', 'much', 'the', 'same', 'way', 'human', 'beings', 'can.', 'nlp', 'combines', 'computational', 'linguistics', 'with', 'statistical', ',', '[', 'machine', 'learning', ',', 'and', 'deep', 'learning', 'models.', 'together', ',', 'these', 'technologies', 'enable', 'computers', 'to', 'process', 'human', 'language', 'in', 'the', 'form', 'of', 'text', 'or', 'voice', 'data', 'and', 'to', 'understand', 'its', 'full', 'meaning', ',', 'complete', 'with', 'the', 'speaker', 'or', 'writer', \"'s\", 'intent', 'and', 'sentiment', '.']\n"
     ]
    }
   ],
   "source": [
    "words=word_tokenize(text,preserve_line=True)\n",
    "print(words)"
   ]
  },
  {
   "cell_type": "code",
   "execution_count": 74,
   "id": "c029a099",
   "metadata": {},
   "outputs": [
    {
     "ename": "NameError",
     "evalue": "name 'ps_stem_sent' is not defined",
     "output_type": "error",
     "traceback": [
      "\u001b[1;31m---------------------------------------------------------------------------\u001b[0m",
      "\u001b[1;31mNameError\u001b[0m                                 Traceback (most recent call last)",
      "Cell \u001b[1;32mIn[74], line 4\u001b[0m\n\u001b[0;32m      2\u001b[0m ps\u001b[38;5;241m=\u001b[39mPorterStemmer()\n\u001b[0;32m      3\u001b[0m ps_stem\u001b[38;5;241m=\u001b[39m[ps\u001b[38;5;241m.\u001b[39mstem(words_sent)\u001b[38;5;28;01mfor\u001b[39;00m words_sent \u001b[38;5;129;01min\u001b[39;00m words]\n\u001b[1;32m----> 4\u001b[0m \u001b[38;5;28mprint\u001b[39m(ps_stem_sent)\n",
      "\u001b[1;31mNameError\u001b[0m: name 'ps_stem_sent' is not defined"
     ]
    }
   ],
   "source": [
    "from nltk.stem import PorterStemmer\n",
    "ps=PorterStemmer()\n",
    "ps_stem=[ps.stem(words_sent)for words_sent in words]\n",
    "print(ps_stem_sent)"
   ]
  },
  {
   "cell_type": "code",
   "execution_count": null,
   "id": "ff12e194",
   "metadata": {},
   "outputs": [],
   "source": []
  }
 ],
 "metadata": {
  "kernelspec": {
   "display_name": "Python 3 (ipykernel)",
   "language": "python",
   "name": "python3"
  },
  "language_info": {
   "codemirror_mode": {
    "name": "ipython",
    "version": 3
   },
   "file_extension": ".py",
   "mimetype": "text/x-python",
   "name": "python",
   "nbconvert_exporter": "python",
   "pygments_lexer": "ipython3",
   "version": "3.11.4"
  }
 },
 "nbformat": 4,
 "nbformat_minor": 5
}
