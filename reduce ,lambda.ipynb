{
 "cells": [
  {
   "cell_type": "code",
   "execution_count": 1,
   "id": "b0facfdb",
   "metadata": {},
   "outputs": [
    {
     "name": "stdout",
     "output_type": "stream",
     "text": [
      "16\n"
     ]
    }
   ],
   "source": [
    "from functools import reduce\n",
    "def add(x,y):\n",
    "     return x+y\n",
    "list=[2,4,7,3]\n",
    "print(reduce(add,list))\n"
   ]
  },
  {
   "cell_type": "code",
   "execution_count": 2,
   "id": "e411b219",
   "metadata": {},
   "outputs": [
    {
     "name": "stdout",
     "output_type": "stream",
     "text": [
      "16\n"
     ]
    }
   ],
   "source": [
    "from functools import reduce\n",
    "list=[2,4,7,3]\n",
    "print(reduce(lambda x,y:x+y,list))\n",
    "\n"
   ]
  },
  {
   "cell_type": "code",
   "execution_count": 9,
   "id": "abd22d15",
   "metadata": {},
   "outputs": [
    {
     "name": "stdout",
     "output_type": "stream",
     "text": [
      "  Cources    Fee Duration  Discount\n",
      "0  Python  20000   30days      1000\n",
      "1    DBMS  25000   40days      2300\n",
      "2    Java  26000   60days      2500\n",
      "3  Python  22000   25days      1000\n",
      "4   Spark  24000   10days       500\n",
      "5    DBMS  30000   50days      2000\n"
     ]
    }
   ],
   "source": [
    "import pandas as pd\n",
    "technologies={\n",
    "    'Cources':['Python','DBMS','Java','Python','Spark','DBMS'],\n",
    "    'Fee'   :[20000,25000,26000,22000,24000,30000],\n",
    "    'Duration':['30days','40days','60days','25days','10days','50days'],\n",
    "    'Discount':[1000,2300,2500,1000,500,2000]}\n",
    "df=pd.DataFrame(technologies)\n",
    "print(df)"
   ]
  },
  {
   "cell_type": "code",
   "execution_count": null,
   "id": "5361ff09",
   "metadata": {},
   "outputs": [],
   "source": []
  }
 ],
 "metadata": {
  "kernelspec": {
   "display_name": "Python 3 (ipykernel)",
   "language": "python",
   "name": "python3"
  },
  "language_info": {
   "codemirror_mode": {
    "name": "ipython",
    "version": 3
   },
   "file_extension": ".py",
   "mimetype": "text/x-python",
   "name": "python",
   "nbconvert_exporter": "python",
   "pygments_lexer": "ipython3",
   "version": "3.11.3"
  }
 },
 "nbformat": 4,
 "nbformat_minor": 5
}
